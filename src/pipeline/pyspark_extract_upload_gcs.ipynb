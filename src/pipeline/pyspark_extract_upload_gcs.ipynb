{
 "cells": [
  {
   "cell_type": "code",
   "execution_count": 1,
   "id": "19fd1a41-345d-4ad0-aaf7-96dd21723796",
   "metadata": {},
   "outputs": [
    {
     "name": "stderr",
     "output_type": "stream",
     "text": [
      "25/04/14 14:45:00 WARN Utils: Your hostname, Ubuntu-24 resolves to a loopback address: 127.0.1.1; using 10.0.2.15 instead (on interface enp0s3)\n",
      "25/04/14 14:45:00 WARN Utils: Set SPARK_LOCAL_IP if you need to bind to another address\n",
      "25/04/14 14:45:00 WARN NativeCodeLoader: Unable to load native-hadoop library for your platform... using builtin-java classes where applicable\n",
      "Setting default log level to \"WARN\".\n",
      "To adjust logging level use sc.setLogLevel(newLevel). For SparkR, use setLogLevel(newLevel).\n",
      "25/04/14 14:45:01 WARN Utils: Service 'SparkUI' could not bind on port 4040. Attempting port 4041.\n"
     ]
    },
    {
     "name": "stdout",
     "output_type": "stream",
     "text": [
      "com.google.cloud.hadoop.fs.gcs.GoogleHadoopFileSystem\n",
      "/home/vboxuser/gcs.json\n",
      "Processing table: doctors\n"
     ]
    },
    {
     "name": "stderr",
     "output_type": "stream",
     "text": [
      "                                                                                \r"
     ]
    },
    {
     "name": "stdout",
     "output_type": "stream",
     "text": [
      "Uploaded doctors to gs://hospital_datalake/pyspark/doctors/\n",
      "Processing table: patients\n"
     ]
    },
    {
     "name": "stderr",
     "output_type": "stream",
     "text": [
      "25/04/14 14:45:12 WARN GarbageCollectionMetrics: To enable non-built-in garbage collector(s) List(G1 Concurrent GC), users should configure it(them) to spark.eventLog.gcMetrics.youngGenerationGarbageCollectors or spark.eventLog.gcMetrics.oldGenerationGarbageCollectors\n",
      "                                                                                \r"
     ]
    },
    {
     "name": "stdout",
     "output_type": "stream",
     "text": [
      "Uploaded patients to gs://hospital_datalake/pyspark/patients/\n",
      "Processing table: medicines\n"
     ]
    },
    {
     "name": "stderr",
     "output_type": "stream",
     "text": [
      "                                                                                \r"
     ]
    },
    {
     "name": "stdout",
     "output_type": "stream",
     "text": [
      "Uploaded medicines to gs://hospital_datalake/pyspark/medicines/\n",
      "Processing table: visits\n"
     ]
    },
    {
     "name": "stderr",
     "output_type": "stream",
     "text": [
      "                                                                                \r"
     ]
    },
    {
     "name": "stdout",
     "output_type": "stream",
     "text": [
      "Uploaded visits to gs://hospital_datalake/pyspark/visits/\n",
      "Processing table: billing_payments\n"
     ]
    },
    {
     "name": "stderr",
     "output_type": "stream",
     "text": [
      "                                                                                \r"
     ]
    },
    {
     "name": "stdout",
     "output_type": "stream",
     "text": [
      "Uploaded billing_payments to gs://hospital_datalake/pyspark/billing_payments/\n",
      "Processing table: prescriptions\n"
     ]
    },
    {
     "name": "stderr",
     "output_type": "stream",
     "text": [
      "                                                                                \r"
     ]
    },
    {
     "name": "stdout",
     "output_type": "stream",
     "text": [
      "Uploaded prescriptions to gs://hospital_datalake/pyspark/prescriptions/\n"
     ]
    }
   ],
   "source": [
    "from pyspark.sql import SparkSession\n",
    "from pyspark.sql.functions import col\n",
    "import os\n",
    "\n",
    "gcs_credential_path = os.path.expanduser(\"~/gcs.json\") \n",
    "\n",
    "POSTGRES_URL = \"jdbc:postgresql://localhost:5433/hospital\"\n",
    "POSTGRES_PROPERTIES = {\n",
    "    \"user\": \"postgres\",\n",
    "    \"password\": \"postgres\",\n",
    "    \"driver\": \"org.postgresql.Driver\"\n",
    "}\n",
    "\n",
    "GCS_BUCKET = \"hospital_datalake\"\n",
    "TABLES = [\"doctors\", \"patients\", \"medicines\", \"visits\", \"billing_payments\", \"prescriptions\"]\n",
    "\n",
    "spark = SparkSession.builder \\\n",
    "    .appName(\"PostgresToGCS\") \\\n",
    "    .config(\"spark.jars\", \"/usr/lib/jars/postgresql-42.7.1.jar,/usr/lib/jars/gcs-connector-hadoop3-latest.jar\") \\\n",
    "    .config(\"spark.hadoop.fs.gs.impl\", \"com.google.cloud.hadoop.fs.gcs.GoogleHadoopFileSystem\") \\\n",
    "    .config(\"spark.hadoop.fs.AbstractFileSystem.gs.impl\", \"com.google.cloud.hadoop.fs.gcs.GoogleHadoopFS\") \\\n",
    "    .config(\"spark.hadoop.google.cloud.auth.service.account.enable\", \"true\") \\\n",
    "    .config(\"spark.hadoop.google.cloud.auth.service.account.json.keyfile\", f\"{gcs_credential_path}\") \\\n",
    "    .getOrCreate()\n",
    "\n",
    "print(spark.conf.get(\"spark.hadoop.fs.gs.impl\")) \n",
    "print(spark.conf.get(\"spark.hadoop.google.cloud.auth.service.account.json.keyfile\")) \n",
    "\n",
    "for table in TABLES:\n",
    "    print(f\"Processing table: {table}\")\n",
    "\n",
    "    df = spark.read.jdbc(url=POSTGRES_URL, table=table, properties=POSTGRES_PROPERTIES)\n",
    "\n",
    "    gcs_path = f\"gs://{GCS_BUCKET}/pyspark/{table}/\"\n",
    "\n",
    "    df.write.mode(\"overwrite\").json(gcs_path)\n",
    "    \n",
    "    print(f\"Uploaded {table} to {gcs_path}\")\n",
    "\n",
    "spark.stop()\n",
    "\n"
   ]
  },
  {
   "cell_type": "code",
   "execution_count": null,
   "id": "05d27f48-4044-4e45-b8f2-0f826f018b4d",
   "metadata": {},
   "outputs": [],
   "source": []
  }
 ],
 "metadata": {
  "kernelspec": {
   "display_name": "Python [conda env:base] *",
   "language": "python",
   "name": "conda-base-py"
  },
  "language_info": {
   "codemirror_mode": {
    "name": "ipython",
    "version": 3
   },
   "file_extension": ".py",
   "mimetype": "text/x-python",
   "name": "python",
   "nbconvert_exporter": "python",
   "pygments_lexer": "ipython3",
   "version": "3.12.7"
  }
 },
 "nbformat": 4,
 "nbformat_minor": 5
}
